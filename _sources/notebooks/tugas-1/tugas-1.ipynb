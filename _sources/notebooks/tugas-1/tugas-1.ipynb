{
  "cells": [
    {
      "cell_type": "markdown",
      "metadata": {
        "id": "jlGYd43E1A1G"
      },
      "source": [
        "# Crawling Web Portal Berita Antaranews"
      ]
    },
    {
      "cell_type": "markdown",
      "metadata": {
        "id": "ogvJ74jQ2cCm"
      },
      "source": [
        "## Pengertian Crawling"
      ]
    },
    {
      "cell_type": "markdown",
      "metadata": {
        "id": "8REx0A2U2y5-"
      },
      "source": [
        "Crawling, dalam konteks mesin pencari, adalah proses otomatis di mana sebuah program (disebut crawler atau spider) menjelajahi internet dari satu halaman web ke halaman web lainnya, mengikuti tautan yang ditemukannya. Bayangkan seperti sebuah robot kecil yang berkeliaran di dunia maya, membaca setiap halaman yang dikunjunginya."
      ]
    },
    {
      "cell_type": "markdown",
      "metadata": {
        "id": "_MKZ3a6U3HO4"
      },
      "source": [
        "## Proses Crawling"
      ]
    },
    {
      "cell_type": "markdown",
      "metadata": {
        "id": "DpxAsOLY3LL5"
      },
      "source": [
        "Dalam Kasus ini, kita mencoba untuk membuat crawler untuk mendapatkan data dari penyedia website berita yaitu Antaranews"
      ]
    },
    {
      "cell_type": "markdown",
      "metadata": {
        "id": "Iep2TpM61LZ3"
      },
      "source": [
        "### Import library"
      ]
    },
    {
      "cell_type": "code",
      "execution_count": 12,
      "metadata": {
        "id": "6xXCgA3sf1I8"
      },
      "outputs": [],
      "source": [
        "import requests as req\n",
        "from bs4 import BeautifulSoup as bs\n",
        "import time\n",
        "import pandas as pd\n",
        "import re"
      ]
    },
    {
      "cell_type": "markdown",
      "metadata": {
        "id": "aIKr2cjn1SYL"
      },
      "source": [
        "### Scraping url dari halaman utama kategori\n",
        "\n",
        "---\n",
        "\n"
      ]
    },
    {
      "cell_type": "code",
      "execution_count": 13,
      "metadata": {
        "colab": {
          "base_uri": "https://localhost:8080/"
        },
        "id": "M0PNep8PnOhz",
        "outputId": "88266d3c-87f6-4ab5-b3ee-7405ed907176"
      },
      "outputs": [
        {
          "data": {
            "text/plain": [
              "142"
            ]
          },
          "execution_count": 13,
          "metadata": {},
          "output_type": "execute_result"
        }
      ],
      "source": [
        "urls = [\n",
        "    \"https://www.antaranews.com/politik\",\n",
        "    \"https://www.antaranews.com/politik/2\",\n",
        "    \"https://www.antaranews.com/politik/3\",\n",
        "    \"https://www.antaranews.com/politik/4\",\n",
        "    \"https://www.antaranews.com/politik/5\",\n",
        "    \"https://www.antaranews.com/ekonomi\",\n",
        "    \"https://www.antaranews.com/ekonomi/2\",\n",
        "    \"https://www.antaranews.com/ekonomi/3\",\n",
        "    \"https://www.antaranews.com/ekonomi/4\",\n",
        "    \"https://www.antaranews.com/ekonomi/5\"\n",
        "]\n",
        "\n",
        "articles_url = []\n",
        "\n",
        "results = []\n",
        "\n",
        "def get_articles_url(url):\n",
        "  articles_url = []\n",
        "  res = req.get(url)\n",
        "  if res.status_code == 200:\n",
        "    soup = bs(res.text, \"html.parser\")\n",
        "\n",
        "    articles = soup.find(\"div\", class_=\"wrapper__list__article\").find_all(\"a\")\n",
        "\n",
        "    for i,article in enumerate(articles):\n",
        "      if re.search(\"https://www.antaranews.com/berita/*/*\", article[\"href\"]):\n",
        "        articles_url.append(article[\"href\"])\n",
        "      else : continue\n",
        "  else : print(\"Error\")\n",
        "\n",
        "  return list(dict.fromkeys(articles_url))\n",
        "\n",
        "for url in urls:\n",
        "  articles_url += get_articles_url(url)\n",
        "\n",
        "articles_url.pop()\n",
        "articles_url.pop()\n",
        "\n",
        "len(articles_url)"
      ]
    },
    {
      "cell_type": "markdown",
      "metadata": {
        "id": "OWOW7C1E1hXU"
      },
      "source": [
        "### Scraping data dari halaman detail berita"
      ]
    },
    {
      "cell_type": "code",
      "execution_count": 14,
      "metadata": {
        "id": "k0vsH4hTuWTz"
      },
      "outputs": [],
      "source": [
        "for url in articles_url:\n",
        "  res = req.get(url)\n",
        "  if res.status_code == 200:\n",
        "    soup = bs(res.text, \"html.parser\")\n",
        "\n",
        "    title = soup.find(\"h1\").text\n",
        "    content = soup.find(\"div\", class_=\"wrap__article-detail-content\").text\n",
        "    image = soup.find(\"div\", class_=\"wrap__article-detail-image\").find(\"img\")[\"src\"]\n",
        "    category = soup.find(\"ul\", class_=\"breadcrumbs\").find_all(\"a\")[1].text\n",
        "\n",
        "    results.append({\n",
        "        'title': title,\n",
        "        'content': content,\n",
        "        'image': image,\n",
        "        'url': url,\n",
        "        'category': category,\n",
        "        'source': 'antaranews'\n",
        "    })\n",
        "  else: break"
      ]
    },
    {
      "cell_type": "markdown",
      "metadata": {
        "id": "8pxIzx4m1rzt"
      },
      "source": [
        "### Konversi ke dataframe"
      ]
    },
    {
      "cell_type": "code",
      "execution_count": 15,
      "metadata": {
        "colab": {
          "base_uri": "https://localhost:8080/",
          "height": 597
        },
        "id": "6OTzd1FWymQZ",
        "outputId": "81adaa01-b96f-449f-ba5e-7b68fa7d4b86"
      },
      "outputs": [
        {
          "data": {
            "text/html": [
              "<div>\n",
              "<style scoped>\n",
              "    .dataframe tbody tr th:only-of-type {\n",
              "        vertical-align: middle;\n",
              "    }\n",
              "\n",
              "    .dataframe tbody tr th {\n",
              "        vertical-align: top;\n",
              "    }\n",
              "\n",
              "    .dataframe thead th {\n",
              "        text-align: right;\n",
              "    }\n",
              "</style>\n",
              "<table border=\"1\" class=\"dataframe\">\n",
              "  <thead>\n",
              "    <tr style=\"text-align: right;\">\n",
              "      <th></th>\n",
              "      <th>title</th>\n",
              "      <th>content</th>\n",
              "      <th>image</th>\n",
              "      <th>url</th>\n",
              "      <th>category</th>\n",
              "      <th>source</th>\n",
              "    </tr>\n",
              "  </thead>\n",
              "  <tbody>\n",
              "    <tr>\n",
              "      <th>0</th>\n",
              "      <td>Gus Ipul tanggalkan jabatan Wali Kota Pasuruan</td>\n",
              "      <td>\\n\"Per hari ini juga saya mundur sebagai Wali ...</td>\n",
              "      <td>https://img.antaranews.com/cache/1200x800/2024...</td>\n",
              "      <td>https://www.antaranews.com/berita/4324327/gus-...</td>\n",
              "      <td>Politik</td>\n",
              "      <td>antaranews</td>\n",
              "    </tr>\n",
              "    <tr>\n",
              "      <th>1</th>\n",
              "      <td>Presiden Jokowi lantik Aida Suwandi jadi Anggo...</td>\n",
              "      <td>\\n\"Demi Allah saya bersumpah bahwa saya tidak ...</td>\n",
              "      <td>https://img.antaranews.com/cache/1200x800/2024...</td>\n",
              "      <td>https://www.antaranews.com/berita/4324243/pres...</td>\n",
              "      <td>Politik</td>\n",
              "      <td>antaranews</td>\n",
              "    </tr>\n",
              "    <tr>\n",
              "      <th>2</th>\n",
              "      <td>Presiden Jokowi lantik Eddy Hartono jadi Kepal...</td>\n",
              "      <td>\\n\"Demi Allah saya bersumpah bahwa saya akan s...</td>\n",
              "      <td>https://img.antaranews.com/cache/1200x800/2024...</td>\n",
              "      <td>https://www.antaranews.com/berita/4324219/pres...</td>\n",
              "      <td>Politik</td>\n",
              "      <td>antaranews</td>\n",
              "    </tr>\n",
              "    <tr>\n",
              "      <th>3</th>\n",
              "      <td>Wakil KSAD tetapkan 500 warga sipil sebagai ko...</td>\n",
              "      <td>\\n“Dengan mengucap Bismillahirrahmanirrahim, p...</td>\n",
              "      <td>https://img.antaranews.com/cache/1200x800/2024...</td>\n",
              "      <td>https://www.antaranews.com/berita/4324191/waki...</td>\n",
              "      <td>Politik</td>\n",
              "      <td>antaranews</td>\n",
              "    </tr>\n",
              "    <tr>\n",
              "      <th>4</th>\n",
              "      <td>Relawan Prabowo-Gibran: Gerakan \"tusuk 3 paslo...</td>\n",
              "      <td>\\n\\t\\t\\t\\t\\t\\t\\t\\tJakarta (ANTARA) - Koordinat...</td>\n",
              "      <td>https://img.antaranews.com/cache/1200x800/2024...</td>\n",
              "      <td>https://www.antaranews.com/berita/4324179/rela...</td>\n",
              "      <td>Politik</td>\n",
              "      <td>antaranews</td>\n",
              "    </tr>\n",
              "    <tr>\n",
              "      <th>...</th>\n",
              "      <td>...</td>\n",
              "      <td>...</td>\n",
              "      <td>...</td>\n",
              "      <td>...</td>\n",
              "      <td>...</td>\n",
              "      <td>...</td>\n",
              "    </tr>\n",
              "    <tr>\n",
              "      <th>137</th>\n",
              "      <td>OJK: Semua bank miliki sistem deteksi rekening...</td>\n",
              "      <td>\\nKami meminta bank untuk meneliti lebih lanju...</td>\n",
              "      <td>https://img.antaranews.com/cache/1200x800/2024...</td>\n",
              "      <td>https://www.antaranews.com/berita/4322531/ojk-...</td>\n",
              "      <td>Ekonomi</td>\n",
              "      <td>antaranews</td>\n",
              "    </tr>\n",
              "    <tr>\n",
              "      <th>138</th>\n",
              "      <td>PT PAL rampungkan “docking refurbishment” KRI ...</td>\n",
              "      <td>\\n\\t\\t\\t\\t\\t\\t\\t\\tSurabaya (ANTARA) - PT PAL I...</td>\n",
              "      <td>https://img.antaranews.com/cache/1200x800/2024...</td>\n",
              "      <td>https://www.antaranews.com/berita/4322475/pt-p...</td>\n",
              "      <td>Ekonomi</td>\n",
              "      <td>antaranews</td>\n",
              "    </tr>\n",
              "    <tr>\n",
              "      <th>139</th>\n",
              "      <td>Rupiah datar di tengah pasar antisipasi data i...</td>\n",
              "      <td>\\n\\t\\t\\t\\t\\t\\t\\t\\tJakarta (ANTARA) - Nilai tuk...</td>\n",
              "      <td>https://img.antaranews.com/cache/1200x800/2024...</td>\n",
              "      <td>https://www.antaranews.com/berita/4322419/rupi...</td>\n",
              "      <td>Ekonomi</td>\n",
              "      <td>antaranews</td>\n",
              "    </tr>\n",
              "    <tr>\n",
              "      <th>140</th>\n",
              "      <td>PGN: Pembayaran tagihan jargas dapat melalui a...</td>\n",
              "      <td>\\n\\t\\t\\t\\t\\t\\t\\t\\tJakarta (ANTARA) - PT PGN Tb...</td>\n",
              "      <td>https://img.antaranews.com/cache/1200x800/2024...</td>\n",
              "      <td>https://www.antaranews.com/berita/4322379/pgn-...</td>\n",
              "      <td>Ekonomi</td>\n",
              "      <td>antaranews</td>\n",
              "    </tr>\n",
              "    <tr>\n",
              "      <th>141</th>\n",
              "      <td>Bappebti sahkan izin Tokocryto jadi pedagang f...</td>\n",
              "      <td>\\nBappebti berkomitmen memberikan jaminan keam...</td>\n",
              "      <td>https://img.antaranews.com/cache/1200x800/2024...</td>\n",
              "      <td>https://www.antaranews.com/berita/4322355/bapp...</td>\n",
              "      <td>Ekonomi</td>\n",
              "      <td>antaranews</td>\n",
              "    </tr>\n",
              "  </tbody>\n",
              "</table>\n",
              "<p>142 rows × 6 columns</p>\n",
              "</div>"
            ],
            "text/plain": [
              "                                                 title  \\\n",
              "0       Gus Ipul tanggalkan jabatan Wali Kota Pasuruan   \n",
              "1    Presiden Jokowi lantik Aida Suwandi jadi Anggo...   \n",
              "2    Presiden Jokowi lantik Eddy Hartono jadi Kepal...   \n",
              "3    Wakil KSAD tetapkan 500 warga sipil sebagai ko...   \n",
              "4    Relawan Prabowo-Gibran: Gerakan \"tusuk 3 paslo...   \n",
              "..                                                 ...   \n",
              "137  OJK: Semua bank miliki sistem deteksi rekening...   \n",
              "138  PT PAL rampungkan “docking refurbishment” KRI ...   \n",
              "139  Rupiah datar di tengah pasar antisipasi data i...   \n",
              "140  PGN: Pembayaran tagihan jargas dapat melalui a...   \n",
              "141  Bappebti sahkan izin Tokocryto jadi pedagang f...   \n",
              "\n",
              "                                               content  \\\n",
              "0    \\n\"Per hari ini juga saya mundur sebagai Wali ...   \n",
              "1    \\n\"Demi Allah saya bersumpah bahwa saya tidak ...   \n",
              "2    \\n\"Demi Allah saya bersumpah bahwa saya akan s...   \n",
              "3    \\n“Dengan mengucap Bismillahirrahmanirrahim, p...   \n",
              "4    \\n\\t\\t\\t\\t\\t\\t\\t\\tJakarta (ANTARA) - Koordinat...   \n",
              "..                                                 ...   \n",
              "137  \\nKami meminta bank untuk meneliti lebih lanju...   \n",
              "138  \\n\\t\\t\\t\\t\\t\\t\\t\\tSurabaya (ANTARA) - PT PAL I...   \n",
              "139  \\n\\t\\t\\t\\t\\t\\t\\t\\tJakarta (ANTARA) - Nilai tuk...   \n",
              "140  \\n\\t\\t\\t\\t\\t\\t\\t\\tJakarta (ANTARA) - PT PGN Tb...   \n",
              "141  \\nBappebti berkomitmen memberikan jaminan keam...   \n",
              "\n",
              "                                                 image  \\\n",
              "0    https://img.antaranews.com/cache/1200x800/2024...   \n",
              "1    https://img.antaranews.com/cache/1200x800/2024...   \n",
              "2    https://img.antaranews.com/cache/1200x800/2024...   \n",
              "3    https://img.antaranews.com/cache/1200x800/2024...   \n",
              "4    https://img.antaranews.com/cache/1200x800/2024...   \n",
              "..                                                 ...   \n",
              "137  https://img.antaranews.com/cache/1200x800/2024...   \n",
              "138  https://img.antaranews.com/cache/1200x800/2024...   \n",
              "139  https://img.antaranews.com/cache/1200x800/2024...   \n",
              "140  https://img.antaranews.com/cache/1200x800/2024...   \n",
              "141  https://img.antaranews.com/cache/1200x800/2024...   \n",
              "\n",
              "                                                   url category      source  \n",
              "0    https://www.antaranews.com/berita/4324327/gus-...  Politik  antaranews  \n",
              "1    https://www.antaranews.com/berita/4324243/pres...  Politik  antaranews  \n",
              "2    https://www.antaranews.com/berita/4324219/pres...  Politik  antaranews  \n",
              "3    https://www.antaranews.com/berita/4324191/waki...  Politik  antaranews  \n",
              "4    https://www.antaranews.com/berita/4324179/rela...  Politik  antaranews  \n",
              "..                                                 ...      ...         ...  \n",
              "137  https://www.antaranews.com/berita/4322531/ojk-...  Ekonomi  antaranews  \n",
              "138  https://www.antaranews.com/berita/4322475/pt-p...  Ekonomi  antaranews  \n",
              "139  https://www.antaranews.com/berita/4322419/rupi...  Ekonomi  antaranews  \n",
              "140  https://www.antaranews.com/berita/4322379/pgn-...  Ekonomi  antaranews  \n",
              "141  https://www.antaranews.com/berita/4322355/bapp...  Ekonomi  antaranews  \n",
              "\n",
              "[142 rows x 6 columns]"
            ]
          },
          "execution_count": 15,
          "metadata": {},
          "output_type": "execute_result"
        }
      ],
      "source": [
        "df = pd.DataFrame(results)\n",
        "\n",
        "df"
      ]
    },
    {
      "cell_type": "code",
      "execution_count": 16,
      "metadata": {
        "id": "AQudiaRRF36O"
      },
      "outputs": [],
      "source": [
        "df.to_csv(\"antaranews.csv\", index=False)"
      ]
    }
  ],
  "metadata": {
    "colab": {
      "provenance": []
    },
    "kernelspec": {
      "display_name": "Python 3",
      "name": "python3"
    },
    "language_info": {
      "codemirror_mode": {
        "name": "ipython",
        "version": 3
      },
      "file_extension": ".py",
      "mimetype": "text/x-python",
      "name": "python",
      "nbconvert_exporter": "python",
      "pygments_lexer": "ipython3",
      "version": "3.12.5"
    }
  },
  "nbformat": 4,
  "nbformat_minor": 0
}
